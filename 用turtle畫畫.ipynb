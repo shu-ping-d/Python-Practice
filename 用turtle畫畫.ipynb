{
 "cells": [
  {
   "cell_type": "code",
   "execution_count": 1,
   "metadata": {},
   "outputs": [],
   "source": [
    "import turtle as tu\n"
   ]
  },
  {
   "cell_type": "code",
   "execution_count": 9,
   "metadata": {},
   "outputs": [],
   "source": [
    "\n",
    "# 顯示畫布\n",
    "tu.showturtle()\n",
    "\n",
    "\n",
    "# 畫中央實心三角形\n",
    "\n",
    "#直接設置畫筆的角度(以水平向右為基準)\n",
    "tu.setheading(180)\n",
    "tu.color('green')\n",
    "tu.pendown()\n",
    "tu.begin_fill()\n",
    "#radius, extent=None, steps=None\n",
    "tu.circle(50,720,10)\n",
    "tu.end_fill()"
   ]
  },
  {
   "cell_type": "code",
   "execution_count": null,
   "metadata": {},
   "outputs": [],
   "source": []
  }
 ],
 "metadata": {
  "kernelspec": {
   "display_name": "Python 3",
   "language": "python",
   "name": "python3"
  },
  "language_info": {
   "codemirror_mode": {
    "name": "ipython",
    "version": 3
   },
   "file_extension": ".py",
   "mimetype": "text/x-python",
   "name": "python",
   "nbconvert_exporter": "python",
   "pygments_lexer": "ipython3",
   "version": "3.7.4"
  }
 },
 "nbformat": 4,
 "nbformat_minor": 2
}
