{
 "cells": [
  {
   "cell_type": "code",
   "execution_count": 21,
   "metadata": {},
   "outputs": [
    {
     "name": "stdout",
     "output_type": "stream",
     "text": [
      "Requirement already satisfied: googletrans in c:\\users\\shupi\\anaconda3\\lib\\site-packages (2.4.0)\n",
      "Requirement already satisfied: requests in c:\\users\\shupi\\anaconda3\\lib\\site-packages (from googletrans) (2.22.0)\n",
      "Requirement already satisfied: chardet<3.1.0,>=3.0.2 in c:\\users\\shupi\\anaconda3\\lib\\site-packages (from requests->googletrans) (3.0.4)\n",
      "Requirement already satisfied: urllib3!=1.25.0,!=1.25.1,<1.26,>=1.21.1 in c:\\users\\shupi\\anaconda3\\lib\\site-packages (from requests->googletrans) (1.24.2)\n",
      "Requirement already satisfied: certifi>=2017.4.17 in c:\\users\\shupi\\anaconda3\\lib\\site-packages (from requests->googletrans) (2019.9.11)\n",
      "Requirement already satisfied: idna<2.9,>=2.5 in c:\\users\\shupi\\anaconda3\\lib\\site-packages (from requests->googletrans) (2.8)\n",
      "Note: you may need to restart the kernel to use updated packages.\n"
     ]
    }
   ],
   "source": [
    "pip install googletrans"
   ]
  },
  {
   "cell_type": "code",
   "execution_count": 17,
   "metadata": {},
   "outputs": [],
   "source": [
    "import googletrans\n",
    "from pprint import pprint\n",
    "#字串長度不得超過 15000 個字元\n",
    "#網頁更新時，需等此套件更新才能正常運作\n",
    "#HTTP 5xx Error 即代表 Google 封鎖了 IP 位址"
   ]
  },
  {
   "cell_type": "code",
   "execution_count": 18,
   "metadata": {},
   "outputs": [],
   "source": [
    "translator = googletrans.Translator()"
   ]
  },
  {
   "cell_type": "code",
   "execution_count": 19,
   "metadata": {},
   "outputs": [
    {
     "name": "stdout",
     "output_type": "stream",
     "text": [
      "Translated(src=zh-CN, dest=en, text=Want summer vacation, pronunciation=None, extra_data=\"{'translat...\")\n",
      "Want summer vacation\n"
     ]
    }
   ],
   "source": [
    "#基礎翻譯\n",
    "results = translator.translate('想要放暑假')\n",
    "print(results)\n",
    "print(results.text)"
   ]
  },
  {
   "cell_type": "code",
   "execution_count": 20,
   "metadata": {},
   "outputs": [
    {
     "name": "stdout",
     "output_type": "stream",
     "text": [
      "English: Want summer vacation\n",
      "Japanese: 欲しい夏休み\n",
      "Korean: 원치 여름 휴가\n"
     ]
    }
   ],
   "source": [
    "print('English:', translator.translate('想要放暑假', dest='en').text)\n",
    "print('Japanese:', translator.translate('想要放暑假', dest='ja').text)\n",
    "print('Korean:', translator.translate('想要放暑假', dest='ko').text)"
   ]
  },
  {
   "cell_type": "code",
   "execution_count": null,
   "metadata": {},
   "outputs": [],
   "source": [
    "#src – source langauge (default: auto)\n",
    "dest – destination language (default: en)\n",
    "text – translated text\n",
    "pronunciation – pronunciation"
   ]
  }
 ],
 "metadata": {
  "kernelspec": {
   "display_name": "Python 3",
   "language": "python",
   "name": "python3"
  },
  "language_info": {
   "codemirror_mode": {
    "name": "ipython",
    "version": 3
   },
   "file_extension": ".py",
   "mimetype": "text/x-python",
   "name": "python",
   "nbconvert_exporter": "python",
   "pygments_lexer": "ipython3",
   "version": "3.7.4"
  }
 },
 "nbformat": 4,
 "nbformat_minor": 2
}
